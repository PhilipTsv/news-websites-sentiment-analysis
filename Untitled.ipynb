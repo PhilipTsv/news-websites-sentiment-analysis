{
 "cells": [
  {
   "cell_type": "code",
   "execution_count": 37,
   "metadata": {},
   "outputs": [
    {
     "name": "stderr",
     "output_type": "stream",
     "text": [
      "[nltk_data] Downloading package punkt to\n",
      "[nltk_data]     C:\\Users\\Philip\\AppData\\Roaming\\nltk_data...\n",
      "[nltk_data]   Package punkt is already up-to-date!\n",
      "[nltk_data] Downloading package averaged_perceptron_tagger to\n",
      "[nltk_data]     C:\\Users\\Philip\\AppData\\Roaming\\nltk_data...\n",
      "[nltk_data]   Package averaged_perceptron_tagger is already up-to-\n",
      "[nltk_data]       date!\n",
      "[nltk_data] Downloading package sentiwordnet to\n",
      "[nltk_data]     C:\\Users\\Philip\\AppData\\Roaming\\nltk_data...\n",
      "[nltk_data]   Package sentiwordnet is already up-to-date!\n",
      "[nltk_data] Downloading package wordnet to\n",
      "[nltk_data]     C:\\Users\\Philip\\AppData\\Roaming\\nltk_data...\n",
      "[nltk_data]   Package wordnet is already up-to-date!\n"
     ]
    }
   ],
   "source": [
    "import pandas as pd\n",
    "import nltk\n",
    "nltk.download('punkt')\n",
    "nltk.download('averaged_perceptron_tagger')\n",
    "nltk.download('sentiwordnet')\n",
    "nltk.download('wordnet')\n",
    "from nltk.corpus import sentiwordnet as swn\n",
    "from nltk import word_tokenize\n",
    "\n",
    "def unsupervised_sentiment_analyzer(review, verbose=False):\n",
    "    # tokenize and POS tag text tokens\n",
    "    #tagged_text = [(token.text, token.tag_) for token in nltk.pos_tag tn.nlp(review)]\n",
    "    \n",
    "    tagged_text = [(pair) for pair in nltk.pos_tag(word_tokenize(review))]\n",
    "    pos_score = neg_score = token_count = obj_score = 0\n",
    "    # get wordnet synsets based on POS tags\n",
    "    # get sentiment scores if synsets are found\n",
    "    for word, tag in tagged_text:\n",
    "        ss_set = None\n",
    "        if 'NN' in tag and list(swn.senti_synsets(word, 'n')): #noun\n",
    "            ss_set = list(swn.senti_synsets(word, 'n'))[0]\n",
    "        elif 'VB' in tag and list(swn.senti_synsets(word, 'v')): #verb\n",
    "            ss_set = list(swn.senti_synsets(word, 'v'))[0]\n",
    "        elif 'JJ' in tag and list(swn.senti_synsets(word, 'a')): #adjective\n",
    "            ss_set = list(swn.senti_synsets(word, 'a'))[0]\n",
    "        elif 'RB' in tag and list(swn.senti_synsets(word, 'r')): #adverb\n",
    "            ss_set = list(swn.senti_synsets(word, 'r'))[0]\n",
    "        # if senti-synset is found        \n",
    "        if ss_set:\n",
    "            # add scores for all found synsets\n",
    "            pos_score += ss_set.pos_score()\n",
    "            neg_score += ss_set.neg_score()\n",
    "            obj_score += ss_set.obj_score()\n",
    "            token_count += 1\n",
    "    \n",
    "    # aggregate final scores\n",
    "    final_score = pos_score - neg_score\n",
    "    norm_final_score = round(float(final_score) / token_count, 2)\n",
    "    final_sentiment = 'positive' if norm_final_score >= 0 else 'negative'\n",
    "    \n",
    "    if verbose:\n",
    "        print(norm_final_score)\n",
    "        norm_obj_score = round(float(obj_score) / token_count, 2)\n",
    "        norm_pos_score = round(float(pos_score) / token_count, 2)\n",
    "        norm_neg_score = round(float(neg_score) / token_count, 2)\n",
    "        print(\"Objectivity:\" + str(norm_obj_score))\n",
    "        print(\"Positivity:\" + str(norm_pos_score))\n",
    "        print(\"Negativity:\" + str(norm_neg_score))\n",
    "    return 1 if (final_sentiment == 'positive') else 0\n",
    "    #return final_sentiment"
   ]
  },
  {
   "cell_type": "code",
   "execution_count": 18,
   "metadata": {},
   "outputs": [
    {
     "name": "stderr",
     "output_type": "stream",
     "text": [
      "[nltk_data] Downloading package stopwords to\n",
      "[nltk_data]     C:\\Users\\Philip\\AppData\\Roaming\\nltk_data...\n",
      "[nltk_data]   Unzipping corpora\\stopwords.zip.\n"
     ]
    }
   ],
   "source": [
    "from nltk.stem.snowball import SnowballStemmer\n",
    "nltk.download('stopwords')\n",
    "\n",
    "def tokenizer(text):\n",
    "       return text.split()\n",
    "\n",
    "stemmer = SnowballStemmer(\"english\", ignore_stopwords=True)\n",
    "\n",
    "def tokenizer_stemmer(text):\n",
    "    return [stemmer.stem(word) for word in tokenizer(text)]#text.split()]"
   ]
  },
  {
   "cell_type": "code",
   "execution_count": 38,
   "metadata": {},
   "outputs": [
    {
     "name": "stdout",
     "output_type": "stream",
     "text": [
      "0.01\n",
      "Objectivity:0.9\n",
      "Positivity:0.05\n",
      "Negativity:0.05\n",
      "1\n"
     ]
    }
   ],
   "source": [
    "text = \"China has detected 137 new asymptomatic coronavirus cases in Kashgar in the north-western region of Xinjiang after one person was found to have the virus the previous day – the first new local cases for 10 days in mainland China. All the cases detected on Sunday were linked to a garment factory where the parents of a 17-year-old girl who was found on Saturday to have the virus – but showed no symptoms – worked, a Xinjiang health commission official told a press briefing. The new cases marked mainland China’s first local infections since 14 October, when one was detected in Qingdao. Xinjiang was the site of a local cluster in August, which prompted a “wartime state” of lockdown in the capital Urumqi, but no new cases had been found in the region since 15 August. Residents reported confusion on Saturday afternoon as flights in and out of Kashgar were suddenly cancelled, and police authorities posted and then deleted a social media message reminding people to wear masks and “not believe or spread rumours”. Authorities later announced the asymptomatic case, and launched a testing programme on Saturday night covering the region’s 4.75 million people. As of Sunday afternoon, more than 2.84 million people had been tested and the rest would be covered by Tuesday, the city government said in a statement. China does not classify asymptomatic cases as “confirmed cases” and so far, no cases of people with symptoms have been reported. The 17-year-old girl works and lives at a garment factory, and went home to visit her family every two weeks, state media reported. She had not travelled abroad or interacted with people known to have been infected. Health authorities said she had driven between home and her factory and her parents’ factory, and been to a shopping mall with her mother a week ago. Authorities said her infection was detected through routine testing, but did not explain why testing was being carried out. Dr Anna Hayes, senior lecturer in politics and international relations at James Cook University in Australia, said the fact she was underage and living in a factory away from her parents was suspicious, given the documented evidence of unfree labour in the region. Hayes said while factories might have anti-pandemic measures running in the workplace, they didn’t apply in the living quarters which typically consisted of shared eating spaces and dormitories of six to eight beds. Hayes said she also took the proffered statistics of 137 asymptomatic cases “with a grain of salt”. Hayes suggested Chinese authorities may want to keep news of a large outbreak secret to avoid further scrutiny of their persecution of Uighurs, or to prevent Han Chinese people from leaving the region in fear. The lack of symptomatic cases among those reported also prompted questions among Chinese people over the transparency of officials regarding the outbreak. “How can none of them show any symptoms? Is it because they have a special constitution or is it a different strain of the virus?” asked one person on Chinese social media. “Is the data real? Has there been a coverup?” said another. Kashgar - near the country’s borders with Pakistan, Afghanistan, Tajikistan and Kyrgyzstan - is the cultural heart of ethnic Uighurs and other Turkic Muslims who have been subjected to persecution which some analysts say amount to cultural genocide. The accusations are strenuously denied by Beijing despite growing evidence and international pressure. Urumqi, the capital of Xinjiang, was kept under strict lockdown for weeks after more than 900 cases were reported in mid-July. The sharp and sudden increase in cases, after almost 150 days of no cases, drew speculation that authorities were covering up an outbreak. There were also fears that the virus could reach the internment camps. The Kashgar government said on Sunday all schools except universities will be closed until Friday but supermarkets and shopping malls would remain open. Four towns in the Kashgar region were identified as “high-risk” areas, according to a statement from Kashgar city authority on Sunday night, and stringent controls such as travel restrictions are expected. China’s national health commission dispatched experts on Sunday to guide coronavirus control work in the ancient Silk Road city of Kashgar. The novel coronavirus was first identified in the central Chinese city of Wuhan at the end of last year. As of Sunday, mainland China had 85,810 confirmed coronavirus cases, the health authority said. The Covid-19 death toll stands at 4,634. Additional reporting by Lillian Yang.\"\n",
    "tagged_text =nltk.pos_tag(tokenizer_stemmer(text))\n",
    "#print(tagged_text)\n",
    "print(unsupervised_sentiment_analyzer(text, verbose = True))"
   ]
  },
  {
   "cell_type": "code",
   "execution_count": null,
   "metadata": {},
   "outputs": [],
   "source": []
  }
 ],
 "metadata": {
  "kernelspec": {
   "display_name": "Python 3",
   "language": "python",
   "name": "python3"
  },
  "language_info": {
   "codemirror_mode": {
    "name": "ipython",
    "version": 3
   },
   "file_extension": ".py",
   "mimetype": "text/x-python",
   "name": "python",
   "nbconvert_exporter": "python",
   "pygments_lexer": "ipython3",
   "version": "3.8.5"
  }
 },
 "nbformat": 4,
 "nbformat_minor": 4
}
